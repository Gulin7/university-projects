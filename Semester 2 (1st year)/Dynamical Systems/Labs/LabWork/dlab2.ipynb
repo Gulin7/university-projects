{
 "cells": [
  {
   "cell_type": "code",
   "execution_count": 1,
   "metadata": {},
   "outputs": [
    {
     "data": {
      "text/plain": [
       "0"
      ]
     },
     "execution_count": 1,
     "metadata": {},
     "output_type": "execute_result"
    }
   ],
   "source": [
    "var('t')\n",
    "diff(cosh(t),t,3) - sinh(t)"
   ]
  },
  {
   "cell_type": "code",
   "execution_count": 3,
   "metadata": {},
   "outputs": [
    {
     "data": {
      "text/plain": [
       "_K2*cos(t) + _K1*sin(t)"
      ]
     },
     "execution_count": 3,
     "metadata": {},
     "output_type": "execute_result"
    }
   ],
   "source": [
    "x = function('x')(t)\n",
    "eq = diff(x,t,2)+x==0\n",
    "desolve(eq, x)\n"
   ]
  },
  {
   "cell_type": "code",
   "execution_count": 5,
   "metadata": {},
   "outputs": [
    {
     "data": {
      "text/plain": [
       "(_K2*cos(1/2*t) + _K1*sin(1/2*t))*e^(-t)"
      ]
     },
     "execution_count": 5,
     "metadata": {},
     "output_type": "execute_result"
    }
   ],
   "source": [
    "x = function('x')(t)\n",
    "eq = 4*diff(x,t,2) + 8*diff(x,t,1)+5*x==0\n",
    "desolve(eq,x)"
   ]
  },
  {
   "cell_type": "code",
   "execution_count": 6,
   "metadata": {},
   "outputs": [
    {
     "data": {
      "text/plain": [
       "2*cos(t) + sin(t)"
      ]
     },
     "execution_count": 6,
     "metadata": {},
     "output_type": "execute_result"
    }
   ],
   "source": [
    "x = function('x')(t)\n",
    "eq = diff(x,t,2)+x==0\n",
    "desolve(eq,x,ics=[pi/2,1,-2])"
   ]
  },
  {
   "cell_type": "code",
   "execution_count": 12,
   "metadata": {},
   "outputs": [
    {
     "data": {
      "image/png": "[encoded data removed]",
      "text/plain": [
       "Graphics object consisting of 1 graphics primitive"
      ]
     },
     "execution_count": 12,
     "metadata": {},
     "output_type": "execute_result"
    }
   ],
   "source": [
    "x=function('x')(t)\n",
    "eq = 4*diff(x,t,2)+8*diff(x,t,1)+5*x==0\n",
    "sol = desolve(eq,x,ics=[0,0,0.5])\n",
    "plot(sol,-10,10)"
   ]
  },
  {
   "cell_type": "code",
   "execution_count": 15,
   "metadata": {},
   "outputs": [
    {
     "data": {
      "text/plain": [
       "e^(-t)*sin(1/2*t)"
      ]
     },
     "execution_count": 15,
     "metadata": {},
     "output_type": "execute_result"
    }
   ],
   "source": [
    "x=function('x')(t)\n",
    "eq = 4*diff(x,t,2)+8*diff(x,t,1)+5*x==0\n",
    "desolve(eq,x,ics=[0,0,0.5])"
   ]
  },
  {
   "cell_type": "code",
   "execution_count": 16,
   "metadata": {},
   "outputs": [
    {
     "data": {
      "text/plain": [
       "e^(2*t) + e^t"
      ]
     },
     "execution_count": 16,
     "metadata": {},
     "output_type": "execute_result"
    }
   ],
   "source": [
    "x=function('x')(t)\n",
    "eq = diff(x,t,2)-3*diff(x,t,1)+2*x==0\n",
    "desolve(eq,x,ics=[0,2,3])"
   ]
  },
  {
   "cell_type": "code",
   "execution_count": 24,
   "metadata": {},
   "outputs": [
    {
     "data": {
      "image/png": "[encoded data removed]",
      "text/plain": [
       "Graphics object consisting of 1 graphics primitive"
      ]
     },
     "execution_count": 24,
     "metadata": {},
     "output_type": "execute_result"
    }
   ],
   "source": [
    "x=function('x')(t)\n",
    "eq = diff(x,t,2)-3*diff(x,t,1)+2*x==0\n",
    "sol = desolve(eq,x,ics=[0,2,3])\n",
    "plot(sol,-2,2)"
   ]
  },
  {
   "cell_type": "code",
   "execution_count": 20,
   "metadata": {},
   "outputs": [
    {
     "data": {
      "text/plain": [
       "_K1*e^(2*t) + _K2*e^t"
      ]
     },
     "execution_count": 20,
     "metadata": {},
     "output_type": "execute_result"
    }
   ],
   "source": [
    "x = function('x')(t)\n",
    "eq1 = diff(x,t,2) + 5*x ==0\n",
    "desolve(eq,x)"
   ]
  },
  {
   "cell_type": "code",
   "execution_count": 27,
   "metadata": {},
   "outputs": [
    {
     "data": {
      "text/plain": [
       "[x(t) == _K1*sqrt(t)*bessel_J(1/3, 2/3*t^(3/2)) + _K2*sqrt(t)*bessel_Y(1/3, 2/3*t^(3/2))]"
      ]
     },
     "execution_count": 27,
     "metadata": {},
     "output_type": "execute_result"
    }
   ],
   "source": [
    "x = function('x')(t)\n",
    "eq2 = diff(x,t,2) + t*x == 0\n",
    "desolve(eq2,x, contrib_ode=true)\n"
   ]
  },
  {
   "cell_type": "code",
   "execution_count": 26,
   "metadata": {},
   "outputs": [
    {
     "data": {
      "text/plain": [
       "[x(t) == _K1*sqrt(t)*bessel_J(-1/7, 2/7*t^(7/2)) + _K2*sqrt(t)*bessel_Y(-1/7, 2/7*t^(7/2))]"
      ]
     },
     "execution_count": 26,
     "metadata": {},
     "output_type": "execute_result"
    }
   ],
   "source": [
    "x = function('x')(t)\n",
    "eq3 = diff(x,t,2) + t^5 * x ==0\n",
    "desolve(eq3,x, contrib_ode=true)"
   ]
  },
  {
   "cell_type": "code",
   "execution_count": null,
   "metadata": {},
   "outputs": [],
   "source": [
    "x = function('x')(t)\n",
    "eq3 = diff(x,t,2) + t^5 * x ==0\n",
    "desolve(eq3,x, contrib_ode=true)\n",
    "plot(bessel_5(1,t),-5,5)"
   ]
  },
  {
   "cell_type": "code",
   "execution_count": 29,
   "metadata": {},
   "outputs": [
    {
     "data": {
      "text/plain": [
       "r34*sin(t)"
      ]
     },
     "execution_count": 29,
     "metadata": {},
     "output_type": "execute_result"
    }
   ],
   "source": [
    "x = function('x')(t)\n",
    "eq = diff(x,t,2) +x==0\n",
    "desolve(eq,x,ics=[0,0,pi,0])"
   ]
  },
  {
   "cell_type": "code",
   "execution_count": 30,
   "metadata": {},
   "outputs": [
    {
     "data": {
      "text/plain": [
       "-((t^2 - 2*t + 2)*e^t - 3*(t - 1)*e^t - _C + 7*e^t)*e^(-t)"
      ]
     },
     "execution_count": 30,
     "metadata": {},
     "output_type": "execute_result"
    }
   ],
   "source": [
    "x=function('x')(t)\n",
    "eq = diff(x,t,1)+x == -t^2+3*t-7\n",
    "desolve(eq,x)"
   ]
  },
  {
   "cell_type": "code",
   "execution_count": 42,
   "metadata": {},
   "outputs": [
    {
     "data": {
      "text/plain": [
       "cos(t) + 2*sin(t)"
      ]
     },
     "execution_count": 42,
     "metadata": {},
     "output_type": "execute_result"
    }
   ],
   "source": [
    "x = function('x')(t)\n",
    "sol = desolve( diff(x,t,1) + x == sin(t) + 3*cos(t),x)\n",
    "sol.subs(_C=0).factor()"
   ]
  },
  {
   "cell_type": "code",
   "execution_count": null,
   "metadata": {},
   "outputs": [],
   "source": []
  },
  {
   "cell_type": "code",
   "execution_count": null,
   "metadata": {},
   "outputs": [],
   "source": []
  }
 ],
 "metadata": {
  "kernelspec": {
   "display_name": "SageMath 9.3",
   "language": "sage",
   "name": "sagemath"
  },
  "language_info": {
   "codemirror_mode": {
    "name": "ipython",
    "version": 3
   },
   "file_extension": ".py",
   "mimetype": "text/x-python",
   "name": "python",
   "nbconvert_exporter": "python",
   "pygments_lexer": "ipython3",
   "version": "3.7.10"
  }
 },
 "nbformat": 4,
 "nbformat_minor": 4
}
