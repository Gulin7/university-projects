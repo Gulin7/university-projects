{
 "cells": [
  {
   "cell_type": "code",
   "execution_count": 11,
   "metadata": {},
   "outputs": [
    {
     "data": {
      "text/plain": [
       "-4"
      ]
     },
     "execution_count": 11,
     "metadata": {},
     "output_type": "execute_result"
    }
   ],
   "source": [
    "A=matrix([[0,-2,0],[1,-2,0],[0,0,-2]])\n",
    "A.det()\n"
   ]
  },
  {
   "cell_type": "code",
   "execution_count": 12,
   "metadata": {},
   "outputs": [
    {
     "data": {
      "text/plain": [
       "-4"
      ]
     },
     "execution_count": 12,
     "metadata": {},
     "output_type": "execute_result"
    }
   ],
   "source": [
    "A=matrix([[0,-2,0],[1,-2,0],[0,0,-2]])\n",
    "det(A)"
   ]
  },
  {
   "cell_type": "code",
   "execution_count": 13,
   "metadata": {},
   "outputs": [
    {
     "data": {
      "text/plain": [
       "[  -1    1    0]\n",
       "[-1/2    0    0]\n",
       "[   0    0 -1/2]"
      ]
     },
     "execution_count": 13,
     "metadata": {},
     "output_type": "execute_result"
    }
   ],
   "source": [
    "A=matrix([[0,-2,0],[1,-2,0],[0,0,-2]])\n",
    "A^(-1)"
   ]
  },
  {
   "cell_type": "code",
   "execution_count": 14,
   "metadata": {},
   "outputs": [
    {
     "data": {
      "text/plain": [
       "[-2, -1 - 1*I, -1 + 1*I]"
      ]
     },
     "execution_count": 14,
     "metadata": {},
     "output_type": "execute_result"
    }
   ],
   "source": [
    "A=matrix([[0,-2,0],[1,-2,0],[0,0,-2]])\n",
    "A.eigenvalues()"
   ]
  },
  {
   "cell_type": "code",
   "execution_count": 15,
   "metadata": {},
   "outputs": [
    {
     "data": {
      "text/plain": [
       "r^3 + 4*r^2 + 6*r + 4"
      ]
     },
     "execution_count": 15,
     "metadata": {},
     "output_type": "execute_result"
    }
   ],
   "source": [
    "A=matrix([[0,-2,0],[1,-2,0],[0,0,-2]])\n",
    "A.charpoly('r')"
   ]
  },
  {
   "cell_type": "code",
   "execution_count": 16,
   "metadata": {},
   "outputs": [
    {
     "data": {
      "text/plain": [
       "[(-2,\n",
       "  [\n",
       "  (0, 0, 1)\n",
       "  ],\n",
       "  1),\n",
       " (-1 - 1*I, [(1, 0.50000000000000000? + 0.50000000000000000?*I, 0)], 1),\n",
       " (-1 + 1*I, [(1, 0.50000000000000000? - 0.50000000000000000?*I, 0)], 1)]"
      ]
     },
     "execution_count": 16,
     "metadata": {},
     "output_type": "execute_result"
    }
   ],
   "source": [
    "A=matrix([[0,-2,0],[1,-2,0],[0,0,-2]])\n",
    "A.eigenvectors_right()"
   ]
  },
  {
   "cell_type": "code",
   "execution_count": 18,
   "metadata": {},
   "outputs": [
    {
     "data": {
      "text/plain": [
       "True"
      ]
     },
     "execution_count": 18,
     "metadata": {},
     "output_type": "execute_result"
    }
   ],
   "source": [
    "A=matrix([[0,-2,0],[1,-2,0],[0,0,-2]])\n",
    "v1=vector([0,0,1])\n",
    "l1=-2\n",
    "A*v1==l1*v1\n"
   ]
  },
  {
   "cell_type": "code",
   "execution_count": 20,
   "metadata": {},
   "outputs": [
    {
     "data": {
      "text/plain": [
       "[           0            1            1]\n",
       "[           0  1/2*I + 1/2 -1/2*I + 1/2]\n",
       "[           1            0            0]"
      ]
     },
     "execution_count": 20,
     "metadata": {},
     "output_type": "execute_result"
    }
   ],
   "source": [
    "A=matrix([[0,-2,0],[1,-2,0],[0,0,-2]])\n",
    "v1=vector([0,0,1])\n",
    "v2=vector([1,1/2+1/2*I,0])\n",
    "v3=vector([1,1/2-1/2*I,0])\n",
    "D=matrix([v1,v2,v3]).transpose()\n",
    "D"
   ]
  },
  {
   "cell_type": "code",
   "execution_count": 21,
   "metadata": {},
   "outputs": [
    {
     "data": {
      "text/plain": [
       "[    -2      0      0]\n",
       "[     0  I - 1      0]\n",
       "[     0      0 -I - 1]"
      ]
     },
     "execution_count": 21,
     "metadata": {},
     "output_type": "execute_result"
    }
   ],
   "source": [
    "A=matrix([[0,-2,0],[1,-2,0],[0,0,-2]])\n",
    "l1=-2\n",
    "l2=-1+I\n",
    "l3=-1-i\n",
    "J=diagonal_matrix([l1,l2,l3])\n",
    "J\n"
   ]
  },
  {
   "cell_type": "code",
   "execution_count": 24,
   "metadata": {},
   "outputs": [
    {
     "data": {
      "text/plain": [
       "True"
      ]
     },
     "execution_count": 24,
     "metadata": {},
     "output_type": "execute_result"
    }
   ],
   "source": [
    "A=matrix([[0,-2,0],[1,-2,0],[0,0,-2]])\n",
    "l1=-2\n",
    "l2=-1-I\n",
    "l3=-1+I\n",
    "J=diagonal_matrix([l1,l2,l3])\n",
    "v1=vector([0,0,1])\n",
    "v2=vector([1,1/2+1/2*I,0])\n",
    "v3=vector([1,1/2-1/2*I,0])\n",
    "D=matrix([v1,v2,v3]).transpose()\n",
    "A==D*J*D^(-1)"
   ]
  },
  {
   "cell_type": "code",
   "execution_count": 25,
   "metadata": {},
   "outputs": [
    {
     "data": {
      "text/plain": [
       "[      e^(-2*t)              0              0]\n",
       "[             0 e^(-(I + 1)*t)              0]\n",
       "[             0              0  e^((I - 1)*t)]"
      ]
     },
     "execution_count": 25,
     "metadata": {},
     "output_type": "execute_result"
    }
   ],
   "source": [
    "t=var('t')\n",
    "A=matrix([[0,-2,0],[1,-2,0],[0,0,-2]])\n",
    "l1=-2\n",
    "l2=-1-I\n",
    "l3=-1+I\n",
    "J=diagonal_matrix([l1,l2,l3])\n",
    "exp(t*J)"
   ]
  },
  {
   "cell_type": "code",
   "execution_count": 26,
   "metadata": {},
   "outputs": [
    {
     "data": {
      "text/plain": [
       "[-1/2*((I - 1)*e^(2*I*t) - I - 1)*e^(-(I + 1)*t)                (I*e^(2*I*t) - I)*e^(-(I + 1)*t)                                               0]\n",
       "[          -1/2*(I*e^(2*I*t) - I)*e^(-(I + 1)*t)  1/2*((I + 1)*e^(2*I*t) - I + 1)*e^(-(I + 1)*t)                                               0]\n",
       "[                                              0                                               0                                        e^(-2*t)]"
      ]
     },
     "execution_count": 26,
     "metadata": {},
     "output_type": "execute_result"
    }
   ],
   "source": [
    "t=var('t')\n",
    "A=matrix([[0,-2,0],[1,-2,0],[0,0,-2]])\n",
    "exp(t*A)"
   ]
  },
  {
   "cell_type": "code",
   "execution_count": 27,
   "metadata": {},
   "outputs": [
    {
     "data": {
      "text/plain": [
       "0"
      ]
     },
     "execution_count": 27,
     "metadata": {},
     "output_type": "execute_result"
    }
   ],
   "source": [
    "t=var('t')\n",
    "A=matrix([[0,-2,0],[1,-2,0],[0,0,-2]])\n",
    "E=exp(t*A)\n",
    "limit(E[0,0],t=infinity)"
   ]
  },
  {
   "cell_type": "code",
   "execution_count": null,
   "metadata": {},
   "outputs": [],
   "source": [
    "var('x')\n",
    "solvew"
   ]
  }
 ],
 "metadata": {
  "kernelspec": {
   "display_name": "SageMath 9.3",
   "language": "sage",
   "name": "sagemath"
  },
  "language_info": {
   "codemirror_mode": {
    "name": "ipython",
    "version": 3
   },
   "file_extension": ".py",
   "mimetype": "text/x-python",
   "name": "python",
   "nbconvert_exporter": "python",
   "pygments_lexer": "ipython3",
   "version": "3.7.10"
  }
 },
 "nbformat": 4,
 "nbformat_minor": 4
}
