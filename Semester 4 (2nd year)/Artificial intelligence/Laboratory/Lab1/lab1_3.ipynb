{
 "cells": [
  {
   "cell_type": "code",
   "execution_count": 24,
   "id": "0a3dd2ff-9dbb-4633-ad88-de100271c061",
   "metadata": {},
   "outputs": [
    {
     "name": "stdout",
     "output_type": "stream",
     "text": [
      "The randomly generated output is:  2\n"
     ]
    }
   ],
   "source": [
    "import random as rand\n",
    "\n",
    "def spinner(probabilityDistribution):\n",
    "    \"\"\"\n",
    "    \n",
    "    \"\"\"\n",
    "    auxRandom = rand.uniform(0,1)\n",
    "    k = 0\n",
    "    while auxRandom > 0:\n",
    "        if auxRandom - probabilityDistribution[k] > 0:\n",
    "            auxRandom -= probabilityDistribution[k]\n",
    "            k=k+1\n",
    "        else: return k+1\n",
    "\n",
    "probabilityDistribution1 = [0.25, 0.45, 0.10, 0.2] \n",
    "result = spinner(probabilityDistribution1)\n",
    "print(\"The randomly generated output is: \", result)"
   ]
  },
  {
   "cell_type": "code",
   "execution_count": 3,
   "id": "bac96859-7c71-4434-9ea1-edbc320b5d30",
   "metadata": {},
   "outputs": [
    {
     "data": {
      "image/png": "[encoded data removed]",
      "text/plain": [
       "<Figure size 640x480 with 1 Axes>"
      ]
     },
     "metadata": {},
     "output_type": "display_data"
    }
   ],
   "source": [
    "import random\n",
    "import matplotlib.pyplot as plt\n",
    "\n",
    "def spinner(probabilityDistribution):\n",
    "    \"\"\"\n",
    "    Simulate spinning a spinner with given probability distribution.\n",
    "    \n",
    "    Args:\n",
    "    - probabilityDistribution: A list representing the probability distribution.\n",
    "    \n",
    "    Returns:\n",
    "    - The index selected based on the probability distribution.\n",
    "    \"\"\"\n",
    "    auxRandom = random.uniform(0, 1)\n",
    "    k = 0\n",
    "    while auxRandom > 0:\n",
    "        if auxRandom - probabilityDistribution[k] > 0:\n",
    "            auxRandom -= probabilityDistribution[k]\n",
    "            k += 1\n",
    "        else:\n",
    "            return k\n",
    "\n",
    "def simulate_spinner_trials(probabilityDistribution, n_trials):\n",
    "    \"\"\"\n",
    "    Simulate spinning the spinner for a specified number of trials.\n",
    "    \n",
    "    Args:\n",
    "    - probabilityDistribution: A list representing the probability distribution.\n",
    "    - n_trials: Number of trials to simulate.\n",
    "    \n",
    "    Returns:\n",
    "    - A list containing the outcomes of each trial.\n",
    "    \"\"\"\n",
    "    outcomes = []\n",
    "    for _ in range(n_trials):\n",
    "        outcome = spinner(probabilityDistribution)\n",
    "        outcomes.append(outcome)\n",
    "    return outcomes\n",
    "\n",
    "def plot_outcomes_histogram(outcomes):\n",
    "    \"\"\"\n",
    "    Plot a histogram of outcomes.\n",
    "    \n",
    "    Args:\n",
    "    - outcomes: A list containing the outcomes of each trial.\n",
    "    \"\"\"\n",
    "    plt.hist(outcomes, bins=len(set(outcomes)), align='mid', rwidth=0.8, color='skyblue', edgecolor='black')\n",
    "    plt.xlabel('Outcome')\n",
    "    plt.ylabel('Frequency')\n",
    "    plt.title('Histogram of Spinner Outcomes')\n",
    "    plt.xticks(range(1, len(set(outcomes)) + 1))\n",
    "    plt.grid(axis='y', alpha=0.5)\n",
    "    plt.show()\n",
    "\n",
    "# Define probability distribution\n",
    "probabilityDistribution1 = [0.25, 0.45, 0.10, 0.2] \n",
    "\n",
    "# Simulate spinner trials\n",
    "n_trials = 10000\n",
    "outcomes = simulate_spinner_trials(probabilityDistribution1, n_trials)\n",
    "\n",
    "# Plot histogram of outcomes\n",
    "plot_outcomes_histogram(outcomes)\n"
   ]
  },
  {
   "cell_type": "code",
   "execution_count": null,
   "id": "160fea0b-e63c-4571-a15f-9e3e40a78c21",
   "metadata": {},
   "outputs": [],
   "source": []
  }
 ],
 "metadata": {
  "kernelspec": {
   "display_name": "Python 3 (ipykernel)",
   "language": "python",
   "name": "python3"
  },
  "language_info": {
   "codemirror_mode": {
    "name": "ipython",
    "version": 3
   },
   "file_extension": ".py",
   "mimetype": "text/x-python",
   "name": "python",
   "nbconvert_exporter": "python",
   "pygments_lexer": "ipython3",
   "version": "3.11.8"
  }
 },
 "nbformat": 4,
 "nbformat_minor": 5
}
