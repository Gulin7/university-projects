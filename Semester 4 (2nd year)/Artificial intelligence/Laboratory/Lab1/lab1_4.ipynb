{
 "cells": [
  {
   "cell_type": "code",
   "execution_count": 73,
   "id": "756d366e-036c-4bcf-ad15-cb97b6ab3184",
   "metadata": {},
   "outputs": [
    {
     "name": "stdout",
     "output_type": "stream",
     "text": [
      "0.28322\n",
      "0.2827433388230814\n"
     ]
    }
   ],
   "source": [
    "import numpy as np\n",
    "import random as rand\n",
    "R = 0.3 # pipe's radius\n",
    "r = 0.01 # ball's radius\n",
    "l = 1 # rectangle's edge\n",
    "totalSimulations = 100000 # no simulations \n",
    "\n",
    "def generateRandomPosition():\n",
    "    x = rand.uniform(-1/2,1/2) # we generate it this way to assume the center of the rectangle ( and pipe ) is (0,0)\n",
    "    y = rand.uniform(-1/2,1/2)\n",
    "    return x,y\n",
    "\n",
    "def checkInsidePipe(x,y):\n",
    "    distanceFromCenter = np.sqrt(x**2+y**2)\n",
    "    if distanceFromCenter <= R:\n",
    "        return 1\n",
    "    return 0\n",
    "        \n",
    "def runSimulations(totalSimulations):\n",
    "    total = 0\n",
    "    for i in range(0,totalSimulations):\n",
    "        x,y = generateRandomPosition()\n",
    "        total += checkInsidePipe(x,y)\n",
    "    return total\n",
    "\n",
    "totalInside = runSimulations(totalSimulations)\n",
    "#print(totalInside) \n",
    "# this is the probability computed with the simulations\n",
    "resultedProbability = totalInside / totalSimulations\n",
    "print(resultedProbability)\n",
    "\n",
    "# mathematical probability\n",
    "mathematicalProbability = (np.pi * R * R) / l**2\n",
    "print(mathematicalProbability)"
   ]
  }
 ],
 "metadata": {
  "kernelspec": {
   "display_name": "Python 3 (ipykernel)",
   "language": "python",
   "name": "python3"
  },
  "language_info": {
   "codemirror_mode": {
    "name": "ipython",
    "version": 3
   },
   "file_extension": ".py",
   "mimetype": "text/x-python",
   "name": "python",
   "nbconvert_exporter": "python",
   "pygments_lexer": "ipython3",
   "version": "3.11.8"
  }
 },
 "nbformat": 4,
 "nbformat_minor": 5
}
