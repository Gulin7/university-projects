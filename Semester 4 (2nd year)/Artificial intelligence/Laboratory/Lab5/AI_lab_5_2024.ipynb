{
 "cells": [
  {
   "cell_type": "markdown",
   "id": "b8210b19",
   "metadata": {},
   "source": [
    "## A.I. Assignment 5\n",
    "\n",
    "## Learning Goals\n",
    "\n",
    "By the end of this lab, you should be able to:\n",
    "* Get more familiar with tensors in pytorch \n",
    "* Create a simple multilayer perceptron model with pytorch\n",
    "* Visualise the parameters\n",
    "\n",
    "\n",
    "### Task\n",
    "\n",
    "Build a fully connected feed forward network that adds two bits. Determine the a propper achitecture for this network (what database you use for this problem? how many layers? how many neurons on each layer? what is the activation function? what is the loss function? etc)\n",
    "\n",
    "Create at least 3 such networks and compare their performance (how accurate they are?, how farst they are trained to get at 1 accuracy?)\n",
    "\n",
    "Display for the best one the weights for each layer.\n"
   ]
  },
  {
   "cell_type": "code",
   "execution_count": 134,
   "id": "b7136c23",
   "metadata": {
    "collapsed": false,
    "jupyter": {
     "outputs_hidden": false
    }
   },
   "outputs": [],
   "source": [
    "import torch\n",
    "import torch.nn as nn\n",
    "from collections import OrderedDict\n",
    "import torch.optim as optim\n",
    "import matplotlib.pyplot as plt\n",
    "import pandas as pd\n",
    "import numpy as np"
   ]
  },
  {
   "cell_type": "code",
   "execution_count": 169,
   "id": "e08610a0",
   "metadata": {
    "collapsed": false,
    "jupyter": {
     "outputs_hidden": false
    }
   },
   "outputs": [],
   "source": [
    "class model(nn.Module):\n",
    "    def __init__(self, input_dim, output_dim, hidden_dim):\n",
    "        super(model, self).__init__ ()\n",
    "        self.input = torch.nn.Linear(input_dim, hidden_dim)\n",
    "        self.activation = torch.nn.ReLU()\n",
    "        self.output = torch.nn.Linear(hidden_dim, output_dim)\n",
    "\n",
    "    def forward(self, x):\n",
    "        x = self.input(x)\n",
    "        x = self.activation(x)\n",
    "        x = self.output(x)\n",
    "        x = self.activation(x)\n",
    "        return x\n"
   ]
  },
  {
   "cell_type": "code",
   "execution_count": 170,
   "id": "329f41c0",
   "metadata": {
    "collapsed": false,
    "jupyter": {
     "outputs_hidden": false
    }
   },
   "outputs": [
    {
     "name": "stdout",
     "output_type": "stream",
     "text": [
      "tensor([[0., 0.],\n",
      "        [0., 1.],\n",
      "        [1., 0.],\n",
      "        [1., 1.]])\n",
      "tensor([[0., 0.],\n",
      "        [0., 1.],\n",
      "        [0., 1.],\n",
      "        [1., 0.]])\n"
     ]
    }
   ],
   "source": [
    "data_in = torch.tensor([[0, 0], [0, 1], [1, 0], [1, 1]], dtype=torch.float32)\n",
    "print(data_in)\n",
    "data_target = torch.tensor([[0, 0], [0, 1], [0, 1], [1, 0]], dtype=torch.float32)\n",
    "print(data_target)"
   ]
  },
  {
   "cell_type": "code",
   "execution_count": 171,
   "id": "6a981c60",
   "metadata": {
    "collapsed": false,
    "jupyter": {
     "outputs_hidden": false
    }
   },
   "outputs": [],
   "source": [
    "def train_model(model, data_in, data_target, num_epochs=100, lr=0.01):\n",
    "    criterion = torch.nn.MSELoss()\n",
    "    optimizer = torch.optim.SGD(model.parameters(), lr=lr)\n",
    "    for epoch in range(0, num_epochs):\n",
    "        # Forward pass\n",
    "        outputs = model(data_in)\n",
    "        loss = criterion(outputs, data_target)\n",
    "\n",
    "        # Backward pass and optimization\n",
    "        optimizer.zero_grad()\n",
    "        loss.backward()\n",
    "        optimizer.step()\n",
    "        if (epoch+1) %10 ==0:\n",
    "            print(f'Epoch [{epoch+1}/{num_epochs}], Loss: {loss.item():.3f}')\n",
    "\n",
    "        model.eval()\n",
    "\n",
    "    return model"
   ]
  },
  {
   "cell_type": "code",
   "execution_count": 172,
   "id": "84bc2f5a",
   "metadata": {
    "collapsed": false,
    "jupyter": {
     "outputs_hidden": false
    }
   },
   "outputs": [
    {
     "name": "stdout",
     "output_type": "stream",
     "text": [
      "Epoch [10/500], Loss: 0.375\n",
      "Epoch [20/500], Loss: 0.375\n",
      "Epoch [30/500], Loss: 0.375\n",
      "Epoch [40/500], Loss: 0.375\n",
      "Epoch [50/500], Loss: 0.375\n",
      "Epoch [60/500], Loss: 0.375\n",
      "Epoch [70/500], Loss: 0.375\n",
      "Epoch [80/500], Loss: 0.375\n",
      "Epoch [90/500], Loss: 0.375\n",
      "Epoch [100/500], Loss: 0.375\n",
      "Epoch [110/500], Loss: 0.375\n",
      "Epoch [120/500], Loss: 0.375\n",
      "Epoch [130/500], Loss: 0.375\n",
      "Epoch [140/500], Loss: 0.375\n",
      "Epoch [150/500], Loss: 0.375\n",
      "Epoch [160/500], Loss: 0.375\n",
      "Epoch [170/500], Loss: 0.375\n",
      "Epoch [180/500], Loss: 0.375\n",
      "Epoch [190/500], Loss: 0.375\n",
      "Epoch [200/500], Loss: 0.375\n",
      "Epoch [210/500], Loss: 0.375\n",
      "Epoch [220/500], Loss: 0.375\n",
      "Epoch [230/500], Loss: 0.375\n",
      "Epoch [240/500], Loss: 0.375\n",
      "Epoch [250/500], Loss: 0.375\n",
      "Epoch [260/500], Loss: 0.375\n",
      "Epoch [270/500], Loss: 0.375\n",
      "Epoch [280/500], Loss: 0.375\n",
      "Epoch [290/500], Loss: 0.375\n",
      "Epoch [300/500], Loss: 0.375\n",
      "Epoch [310/500], Loss: 0.375\n",
      "Epoch [320/500], Loss: 0.375\n",
      "Epoch [330/500], Loss: 0.375\n",
      "Epoch [340/500], Loss: 0.375\n",
      "Epoch [350/500], Loss: 0.375\n",
      "Epoch [360/500], Loss: 0.375\n",
      "Epoch [370/500], Loss: 0.375\n",
      "Epoch [380/500], Loss: 0.375\n",
      "Epoch [390/500], Loss: 0.375\n",
      "Epoch [400/500], Loss: 0.375\n",
      "Epoch [410/500], Loss: 0.375\n",
      "Epoch [420/500], Loss: 0.375\n",
      "Epoch [430/500], Loss: 0.375\n",
      "Epoch [440/500], Loss: 0.375\n",
      "Epoch [450/500], Loss: 0.375\n",
      "Epoch [460/500], Loss: 0.375\n",
      "Epoch [470/500], Loss: 0.375\n",
      "Epoch [480/500], Loss: 0.375\n",
      "Epoch [490/500], Loss: 0.375\n",
      "Epoch [500/500], Loss: 0.375\n"
     ]
    }
   ],
   "source": [
    "model1 = model(2, 2, 5)\n",
    "model1 = train_model(model1, data_in, data_target, num_epochs=500, lr=0.01)"
   ]
  },
  {
   "cell_type": "code",
   "execution_count": 173,
   "id": "28d63480",
   "metadata": {
    "collapsed": false,
    "jupyter": {
     "outputs_hidden": false
    }
   },
   "outputs": [
    {
     "name": "stdout",
     "output_type": "stream",
     "text": [
      "Epoch [10/500], Loss: 0.333\n",
      "Epoch [20/500], Loss: 0.327\n",
      "Epoch [30/500], Loss: 0.322\n",
      "Epoch [40/500], Loss: 0.318\n",
      "Epoch [50/500], Loss: 0.315\n",
      "Epoch [60/500], Loss: 0.312\n",
      "Epoch [70/500], Loss: 0.309\n",
      "Epoch [80/500], Loss: 0.307\n",
      "Epoch [90/500], Loss: 0.305\n",
      "Epoch [100/500], Loss: 0.303\n",
      "Epoch [110/500], Loss: 0.301\n",
      "Epoch [120/500], Loss: 0.299\n",
      "Epoch [130/500], Loss: 0.297\n",
      "Epoch [140/500], Loss: 0.296\n",
      "Epoch [150/500], Loss: 0.294\n",
      "Epoch [160/500], Loss: 0.292\n",
      "Epoch [170/500], Loss: 0.291\n",
      "Epoch [180/500], Loss: 0.289\n",
      "Epoch [190/500], Loss: 0.288\n",
      "Epoch [200/500], Loss: 0.287\n",
      "Epoch [210/500], Loss: 0.285\n",
      "Epoch [220/500], Loss: 0.284\n",
      "Epoch [230/500], Loss: 0.283\n",
      "Epoch [240/500], Loss: 0.282\n",
      "Epoch [250/500], Loss: 0.280\n",
      "Epoch [260/500], Loss: 0.279\n",
      "Epoch [270/500], Loss: 0.278\n",
      "Epoch [280/500], Loss: 0.277\n",
      "Epoch [290/500], Loss: 0.276\n",
      "Epoch [300/500], Loss: 0.275\n",
      "Epoch [310/500], Loss: 0.274\n",
      "Epoch [320/500], Loss: 0.274\n",
      "Epoch [330/500], Loss: 0.273\n",
      "Epoch [340/500], Loss: 0.272\n",
      "Epoch [350/500], Loss: 0.271\n",
      "Epoch [360/500], Loss: 0.270\n",
      "Epoch [370/500], Loss: 0.270\n",
      "Epoch [380/500], Loss: 0.269\n",
      "Epoch [390/500], Loss: 0.268\n",
      "Epoch [400/500], Loss: 0.268\n",
      "Epoch [410/500], Loss: 0.267\n",
      "Epoch [420/500], Loss: 0.267\n",
      "Epoch [430/500], Loss: 0.266\n",
      "Epoch [440/500], Loss: 0.266\n",
      "Epoch [450/500], Loss: 0.265\n",
      "Epoch [460/500], Loss: 0.265\n",
      "Epoch [470/500], Loss: 0.264\n",
      "Epoch [480/500], Loss: 0.264\n",
      "Epoch [490/500], Loss: 0.263\n",
      "Epoch [500/500], Loss: 0.263\n"
     ]
    }
   ],
   "source": [
    "model2 = model(2, 2, 10)\n",
    "model2 = train_model(model2, X, y, num_epochs=500, lr=0.01)"
   ]
  },
  {
   "cell_type": "code",
   "execution_count": 174,
   "id": "d2d02a3f",
   "metadata": {
    "collapsed": false,
    "jupyter": {
     "outputs_hidden": false
    }
   },
   "outputs": [
    {
     "name": "stdout",
     "output_type": "stream",
     "text": [
      "Epoch [10/500], Loss: 0.232\n",
      "Epoch [20/500], Loss: 0.210\n",
      "Epoch [30/500], Loss: 0.197\n",
      "Epoch [40/500], Loss: 0.188\n",
      "Epoch [50/500], Loss: 0.182\n",
      "Epoch [60/500], Loss: 0.177\n",
      "Epoch [70/500], Loss: 0.173\n",
      "Epoch [80/500], Loss: 0.169\n",
      "Epoch [90/500], Loss: 0.166\n",
      "Epoch [100/500], Loss: 0.163\n",
      "Epoch [110/500], Loss: 0.160\n",
      "Epoch [120/500], Loss: 0.157\n",
      "Epoch [130/500], Loss: 0.154\n",
      "Epoch [140/500], Loss: 0.152\n",
      "Epoch [150/500], Loss: 0.149\n",
      "Epoch [160/500], Loss: 0.147\n",
      "Epoch [170/500], Loss: 0.145\n",
      "Epoch [180/500], Loss: 0.143\n",
      "Epoch [190/500], Loss: 0.141\n",
      "Epoch [200/500], Loss: 0.139\n",
      "Epoch [210/500], Loss: 0.137\n",
      "Epoch [220/500], Loss: 0.135\n",
      "Epoch [230/500], Loss: 0.133\n",
      "Epoch [240/500], Loss: 0.131\n",
      "Epoch [250/500], Loss: 0.130\n",
      "Epoch [260/500], Loss: 0.128\n",
      "Epoch [270/500], Loss: 0.127\n",
      "Epoch [280/500], Loss: 0.125\n",
      "Epoch [290/500], Loss: 0.123\n",
      "Epoch [300/500], Loss: 0.122\n",
      "Epoch [310/500], Loss: 0.121\n",
      "Epoch [320/500], Loss: 0.119\n",
      "Epoch [330/500], Loss: 0.118\n",
      "Epoch [340/500], Loss: 0.116\n",
      "Epoch [350/500], Loss: 0.115\n",
      "Epoch [360/500], Loss: 0.114\n",
      "Epoch [370/500], Loss: 0.112\n",
      "Epoch [380/500], Loss: 0.111\n",
      "Epoch [390/500], Loss: 0.110\n",
      "Epoch [400/500], Loss: 0.109\n",
      "Epoch [410/500], Loss: 0.108\n",
      "Epoch [420/500], Loss: 0.106\n",
      "Epoch [430/500], Loss: 0.105\n",
      "Epoch [440/500], Loss: 0.104\n",
      "Epoch [450/500], Loss: 0.103\n",
      "Epoch [460/500], Loss: 0.102\n",
      "Epoch [470/500], Loss: 0.101\n",
      "Epoch [480/500], Loss: 0.100\n",
      "Epoch [490/500], Loss: 0.099\n",
      "Epoch [500/500], Loss: 0.098\n"
     ]
    }
   ],
   "source": [
    "model3 = model(2, 2, 20)\n",
    "model3 = train_model(model3, data_in, data_target, num_epochs=500, lr=0.01)"
   ]
  },
  {
   "cell_type": "code",
   "execution_count": 175,
   "id": "2d2cf732",
   "metadata": {
    "collapsed": false,
    "jupyter": {
     "outputs_hidden": false
    }
   },
   "outputs": [
    {
     "name": "stdout",
     "output_type": "stream",
     "text": [
      "Epoch [10/500], Loss: 0.085\n",
      "Epoch [20/500], Loss: 0.073\n",
      "Epoch [30/500], Loss: 0.062\n",
      "Epoch [40/500], Loss: 0.052\n",
      "Epoch [50/500], Loss: 0.042\n",
      "Epoch [60/500], Loss: 0.033\n",
      "Epoch [70/500], Loss: 0.026\n",
      "Epoch [80/500], Loss: 0.020\n",
      "Epoch [90/500], Loss: 0.015\n",
      "Epoch [100/500], Loss: 0.011\n",
      "Epoch [110/500], Loss: 0.008\n",
      "Epoch [120/500], Loss: 0.006\n",
      "Epoch [130/500], Loss: 0.004\n",
      "Epoch [140/500], Loss: 0.003\n",
      "Epoch [150/500], Loss: 0.002\n",
      "Epoch [160/500], Loss: 0.002\n",
      "Epoch [170/500], Loss: 0.001\n",
      "Epoch [180/500], Loss: 0.001\n",
      "Epoch [190/500], Loss: 0.001\n",
      "Epoch [200/500], Loss: 0.000\n",
      "Epoch [210/500], Loss: 0.000\n",
      "Epoch [220/500], Loss: 0.000\n",
      "Epoch [230/500], Loss: 0.000\n",
      "Epoch [240/500], Loss: 0.000\n",
      "Epoch [250/500], Loss: 0.000\n",
      "Epoch [260/500], Loss: 0.000\n",
      "Epoch [270/500], Loss: 0.000\n",
      "Epoch [280/500], Loss: 0.000\n",
      "Epoch [290/500], Loss: 0.000\n",
      "Epoch [300/500], Loss: 0.000\n",
      "Epoch [310/500], Loss: 0.000\n",
      "Epoch [320/500], Loss: 0.000\n",
      "Epoch [330/500], Loss: 0.000\n",
      "Epoch [340/500], Loss: 0.000\n",
      "Epoch [350/500], Loss: 0.000\n",
      "Epoch [360/500], Loss: 0.000\n",
      "Epoch [370/500], Loss: 0.000\n",
      "Epoch [380/500], Loss: 0.000\n",
      "Epoch [390/500], Loss: 0.000\n",
      "Epoch [400/500], Loss: 0.000\n",
      "Epoch [410/500], Loss: 0.000\n",
      "Epoch [420/500], Loss: 0.000\n",
      "Epoch [430/500], Loss: 0.000\n",
      "Epoch [440/500], Loss: 0.000\n",
      "Epoch [450/500], Loss: 0.000\n",
      "Epoch [460/500], Loss: 0.000\n",
      "Epoch [470/500], Loss: 0.000\n",
      "Epoch [480/500], Loss: 0.000\n",
      "Epoch [490/500], Loss: 0.000\n",
      "Epoch [500/500], Loss: 0.000\n"
     ]
    },
    {
     "data": {
      "text/plain": [
       "model(\n",
       "  (input): Linear(in_features=2, out_features=20, bias=True)\n",
       "  (activation): ReLU()\n",
       "  (output): Linear(in_features=20, out_features=2, bias=True)\n",
       ")"
      ]
     },
     "execution_count": 175,
     "metadata": {},
     "output_type": "execute_result"
    }
   ],
   "source": [
    "train_model(model3, data_in, data_target, num_epochs=500, lr=0.15)"
   ]
  },
  {
   "cell_type": "markdown",
   "id": "2fb0f37e-e749-4c8a-a17c-6b8a65fcb474",
   "metadata": {},
   "source": [
    "## "
   ]
  },
  {
   "cell_type": "code",
   "execution_count": null,
   "id": "3f783344-f8cf-415e-b8f4-fe429a9f9556",
   "metadata": {},
   "outputs": [],
   "source": []
  },
  {
   "cell_type": "code",
   "execution_count": null,
   "id": "04591ec5-9faa-43fa-97e0-d3ecdc2ca629",
   "metadata": {},
   "outputs": [],
   "source": []
  }
 ],
 "metadata": {
  "kernelspec": {
   "display_name": "Python 3 (ipykernel)",
   "language": "python",
   "name": "python3"
  },
  "language_info": {
   "codemirror_mode": {
    "name": "ipython",
    "version": 3
   },
   "file_extension": ".py",
   "mimetype": "text/x-python",
   "name": "python",
   "nbconvert_exporter": "python",
   "pygments_lexer": "ipython3",
   "version": "3.11.8"
  }
 },
 "nbformat": 4,
 "nbformat_minor": 5
}
