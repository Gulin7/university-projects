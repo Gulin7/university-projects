{
 "cells": [
  {
   "cell_type": "markdown",
   "id": "b8210b19",
   "metadata": {},
   "source": [
    "## A.I. Assignment 5\n",
    "\n",
    "## Learning Goals\n",
    "\n",
    "By the end of this lab, you should be able to:\n",
    "* Get more familiar with tensors in pytorch \n",
    "* Create a simple multilayer perceptron model with pytorch\n",
    "* Visualise the parameters\n",
    "\n",
    "\n",
    "### Task\n",
    "\n",
    "Build a fully connected feed forward network that adds two bits. Determine the a propper achitecture for this network (what database you use for this problem? how many layers? how many neurons on each layer? what is the activation function? what is the loss function? etc)\n",
    "\n",
    "Create at least 3 such networks and compare their performance (how accurate they are?, how farst they are trained to get at 1 accuracy?)\n",
    "\n",
    "Display for the best one the weights for each layer.\n"
   ]
  },
  {
   "cell_type": "code",
   "execution_count": 8,
   "outputs": [],
   "source": [
    "import torch\n",
    "import torch.nn as nn\n",
    "import torch.optim as optim\n",
    "import matplotlib.pyplot as plt\n",
    "import pandas as pd\n",
    "import numpy as np\n",
    "import skorch\n",
    "from sklearn.metrics import f1_score, accuracy_score\n",
    "from sklearn.multiclass import OneVsOneClassifier, OneVsRestClassifier"
   ],
   "metadata": {
    "collapsed": false
   }
  },
  {
   "cell_type": "code",
   "execution_count": 10,
   "outputs": [],
   "source": [
    "class RegressionModel(torch.nn.Module):\n",
    "    def __init__(self, input_dim, output_dim, hidden_dim):\n",
    "        super(RegressionModel, self).__init__ ()\n",
    "        self.input = torch.nn.Linear(input_dim, hidden_dim)\n",
    "        self.activation = torch.nn.ReLU()\n",
    "        self.output = torch.nn.Linear(hidden_dim, output_dim)\n",
    "\n",
    "    def forward(self, x):\n",
    "        x = self.input(x)\n",
    "        x = self.activation(x)\n",
    "        x = self.output(x)\n",
    "        return x"
   ],
   "metadata": {
    "collapsed": false
   }
  },
  {
   "cell_type": "code",
   "execution_count": 30,
   "outputs": [],
   "source": [
    "def train_model(model, X_train, y_train, num_epochs=100, lr=0.01, patience=5):\n",
    "    best_val_loss = float('inf')\n",
    "    epochs_without_improvement = 0\n",
    "    criterion = torch.nn.MSELoss()\n",
    "    optimizer = torch.optim.Adam(model.parameters(), lr=lr)\n",
    "    for epoch in range(num_epochs):\n",
    "        # Forward pass\n",
    "        outputs = model(X_train)\n",
    "        loss = criterion(outputs, y_train)\n",
    "\n",
    "        # Backward pass and optimization\n",
    "        optimizer.zero_grad()\n",
    "        loss.backward()\n",
    "        optimizer.step()\n",
    "\n",
    "        print(f'Epoch [{epoch+1}/{num_epochs}], Loss: {loss.item():.4f}')\n",
    "\n",
    "\n",
    "        model.eval()\n",
    "        val_loss = 0.0\n",
    "        with torch.no_grad():\n",
    "            for inputs in X_train:\n",
    "                outputs = model(inputs)\n",
    "                val_loss += criterion(outputs, y_train).item()\n",
    "        val_loss /= len(X_train)\n",
    "\n",
    "        if val_loss < best_val_loss:\n",
    "            best_val_loss = val_loss\n",
    "            epochs_without_improvement = 0\n",
    "        else:\n",
    "            epochs_without_improvement += 1\n",
    "            if epochs_without_improvement >= patience:\n",
    "                print(\"Early stopping triggered!\")\n",
    "                break\n",
    "\n",
    "    return model"
   ],
   "metadata": {
    "collapsed": false
   }
  },
  {
   "cell_type": "code",
   "execution_count": 17,
   "outputs": [],
   "source": [
    "X = torch.tensor([[0, 0], [0, 1], [1, 0], [1, 1]], dtype=torch.float32)\n",
    "y = torch.tensor([[0, 0], [0, 1], [0, 1], [1, 0]], dtype=torch.float32)"
   ],
   "metadata": {
    "collapsed": false
   }
  },
  {
   "cell_type": "code",
   "execution_count": 31,
   "outputs": [
    {
     "name": "stdout",
     "output_type": "stream",
     "text": [
      "Epoch [1/1000], Loss: 0.2982\n",
      "Epoch [2/1000], Loss: 0.2898\n",
      "Epoch [3/1000], Loss: 0.2827\n",
      "Epoch [4/1000], Loss: 0.2764\n",
      "Epoch [5/1000], Loss: 0.2708\n",
      "Epoch [6/1000], Loss: 0.2658\n",
      "Epoch [7/1000], Loss: 0.2613\n",
      "Epoch [8/1000], Loss: 0.2572\n",
      "Epoch [9/1000], Loss: 0.2534\n",
      "Epoch [10/1000], Loss: 0.2499\n",
      "Epoch [11/1000], Loss: 0.2465\n",
      "Epoch [12/1000], Loss: 0.2436\n",
      "Epoch [13/1000], Loss: 0.2406\n",
      "Epoch [14/1000], Loss: 0.2377\n",
      "Epoch [15/1000], Loss: 0.2347\n",
      "Epoch [16/1000], Loss: 0.2317\n",
      "Epoch [17/1000], Loss: 0.2287\n",
      "Epoch [18/1000], Loss: 0.2258\n",
      "Epoch [19/1000], Loss: 0.2230\n",
      "Epoch [20/1000], Loss: 0.2203\n",
      "Epoch [21/1000], Loss: 0.2177\n",
      "Epoch [22/1000], Loss: 0.2152\n",
      "Epoch [23/1000], Loss: 0.2127\n",
      "Epoch [24/1000], Loss: 0.2104\n",
      "Epoch [25/1000], Loss: 0.2081\n",
      "Epoch [26/1000], Loss: 0.2059\n",
      "Epoch [27/1000], Loss: 0.2037\n",
      "Epoch [28/1000], Loss: 0.2015\n",
      "Epoch [29/1000], Loss: 0.1993\n",
      "Early stopping triggered!\n"
     ]
    },
    {
     "name": "stderr",
     "output_type": "stream",
     "text": [
      "C:\\Users\\seu21\\anaconda3\\envs\\ai_lab\\lib\\site-packages\\torch\\nn\\modules\\loss.py:535: UserWarning: Using a target size (torch.Size([4, 2])) that is different to the input size (torch.Size([2])). This will likely lead to incorrect results due to broadcasting. Please ensure they have the same size.\n",
      "  return F.mse_loss(input, target, reduction=self.reduction)\n"
     ]
    }
   ],
   "source": [
    "model1 = RegressionModel(2, 2, 4)\n",
    "model1 = train_model(model1, X, y, num_epochs=1000, lr=0.01)"
   ],
   "metadata": {
    "collapsed": false
   }
  },
  {
   "cell_type": "code",
   "execution_count": 32,
   "outputs": [
    {
     "name": "stdout",
     "output_type": "stream",
     "text": [
      "Epoch [1/1000], Loss: 0.4032\n",
      "Epoch [2/1000], Loss: 0.3669\n",
      "Epoch [3/1000], Loss: 0.3345\n",
      "Epoch [4/1000], Loss: 0.3061\n",
      "Epoch [5/1000], Loss: 0.2820\n",
      "Epoch [6/1000], Loss: 0.2606\n",
      "Epoch [7/1000], Loss: 0.2417\n",
      "Epoch [8/1000], Loss: 0.2257\n",
      "Epoch [9/1000], Loss: 0.2115\n",
      "Epoch [10/1000], Loss: 0.1990\n",
      "Epoch [11/1000], Loss: 0.1879\n",
      "Epoch [12/1000], Loss: 0.1779\n",
      "Epoch [13/1000], Loss: 0.1689\n",
      "Epoch [14/1000], Loss: 0.1606\n",
      "Epoch [15/1000], Loss: 0.1542\n",
      "Epoch [16/1000], Loss: 0.1487\n",
      "Epoch [17/1000], Loss: 0.1438\n",
      "Epoch [18/1000], Loss: 0.1393\n",
      "Epoch [19/1000], Loss: 0.1350\n",
      "Epoch [20/1000], Loss: 0.1308\n",
      "Early stopping triggered!\n"
     ]
    }
   ],
   "source": [
    "model2 = RegressionModel(2, 2, 10)\n",
    "model2 = train_model(model2, X, y, num_epochs=1000, lr=0.01)"
   ],
   "metadata": {
    "collapsed": false
   }
  },
  {
   "cell_type": "code",
   "execution_count": 34,
   "outputs": [
    {
     "name": "stdout",
     "output_type": "stream",
     "text": [
      "Epoch [1/1000], Loss: 0.5195\n",
      "Epoch [2/1000], Loss: 0.4684\n",
      "Epoch [3/1000], Loss: 0.4238\n",
      "Epoch [4/1000], Loss: 0.3850\n",
      "Epoch [5/1000], Loss: 0.3512\n",
      "Epoch [6/1000], Loss: 0.3215\n",
      "Epoch [7/1000], Loss: 0.2952\n",
      "Epoch [8/1000], Loss: 0.2720\n",
      "Epoch [9/1000], Loss: 0.2517\n",
      "Epoch [10/1000], Loss: 0.2342\n",
      "Epoch [11/1000], Loss: 0.2192\n",
      "Epoch [12/1000], Loss: 0.2063\n",
      "Epoch [13/1000], Loss: 0.1955\n",
      "Epoch [14/1000], Loss: 0.1866\n",
      "Epoch [15/1000], Loss: 0.1794\n",
      "Epoch [16/1000], Loss: 0.1737\n",
      "Epoch [17/1000], Loss: 0.1694\n",
      "Epoch [18/1000], Loss: 0.1662\n",
      "Epoch [19/1000], Loss: 0.1639\n",
      "Epoch [20/1000], Loss: 0.1622\n",
      "Epoch [21/1000], Loss: 0.1610\n",
      "Epoch [22/1000], Loss: 0.1600\n",
      "Early stopping triggered!\n"
     ]
    }
   ],
   "source": [
    "model3 = RegressionModel(2, 2, 15)\n",
    "model3 = train_model(model3, X, y, num_epochs=1000, lr=0.01)"
   ],
   "metadata": {
    "collapsed": false
   }
  },
  {
   "cell_type": "code",
   "execution_count": 38,
   "outputs": [
    {
     "name": "stdout",
     "output_type": "stream",
     "text": [
      "Epoch [1/1000], Loss: 0.0135\n",
      "Epoch [2/1000], Loss: 0.3078\n",
      "Epoch [3/1000], Loss: 0.0202\n",
      "Epoch [4/1000], Loss: 0.0870\n",
      "Epoch [5/1000], Loss: 0.1226\n",
      "Epoch [6/1000], Loss: 0.0771\n",
      "Epoch [7/1000], Loss: 0.0435\n",
      "Epoch [8/1000], Loss: 0.0475\n",
      "Epoch [9/1000], Loss: 0.0667\n",
      "Epoch [10/1000], Loss: 0.0789\n",
      "Epoch [11/1000], Loss: 0.0753\n",
      "Epoch [12/1000], Loss: 0.0574\n",
      "Epoch [13/1000], Loss: 0.0353\n",
      "Epoch [14/1000], Loss: 0.0207\n",
      "Epoch [15/1000], Loss: 0.0135\n",
      "Early stopping triggered!\n"
     ]
    },
    {
     "data": {
      "text/plain": "RegressionModel(\n  (input): Linear(in_features=2, out_features=10, bias=True)\n  (activation): ReLU()\n  (output): Linear(in_features=10, out_features=2, bias=True)\n)"
     },
     "execution_count": 38,
     "metadata": {},
     "output_type": "execute_result"
    }
   ],
   "source": [
    "train_model(model2, X, y, num_epochs=1000, lr=0.15)"
   ],
   "metadata": {
    "collapsed": false
   }
  }
 ],
 "metadata": {
  "kernelspec": {
   "display_name": "Python 3 (ipykernel)",
   "language": "python",
   "name": "python3"
  },
  "language_info": {
   "codemirror_mode": {
    "name": "ipython",
    "version": 3
   },
   "file_extension": ".py",
   "mimetype": "text/x-python",
   "name": "python",
   "nbconvert_exporter": "python",
   "pygments_lexer": "ipython3",
   "version": "3.9.13"
  }
 },
 "nbformat": 4,
 "nbformat_minor": 5
}
