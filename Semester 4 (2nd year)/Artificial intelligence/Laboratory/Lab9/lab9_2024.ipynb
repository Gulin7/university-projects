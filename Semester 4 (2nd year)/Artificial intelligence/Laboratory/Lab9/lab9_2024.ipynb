{
 "cells": [
  {
   "attachments": {},
   "cell_type": "markdown",
   "metadata": {},
   "source": [
    "## Lab. 12\n",
    "\n",
    "### Solve the following problem using Genetic Algorithms:\n",
    "\n",
    "\n",
    "Problem: Weighted N-Queen Problem\n",
    "\n",
    "\n",
    "You are given an N×N chessboard, and each cell of the board has an associated weight. Your task is to find a valid placement of N queens such that the total weight of the queens is maximized, and no two queens threaten each other.\n",
    "\n"
   ]
  },
  {
   "attachments": {},
   "cell_type": "markdown",
   "metadata": {},
   "source": [
    "\n",
    "\n",
    "In the traditional N-Queen Problem, the goal is to place N queens on an N×N chessboard in such a way that no two queens threaten each other. In this variation, we introduce weights to the queens and aim to find a placement that maximizes the total weight of the queens while satisfying the constraint of non-threatening positions.\n",
    "\n",
    "\n",
    "Constraints:\n",
    "\n",
    "1. There should be exactly one queen in each row and each column.\n",
    "2. No two queens should be placed in the same diagonal, i.e., they should not threaten each other.\n",
    "3. The placement should maximize the total weight of the queens.\n",
    "\n",
    "\n",
    "Representation:\n",
    "\n",
    "Use a permutation-based representation. Each permutation represents the column position of the queen for each row. \n",
    "\n",
    "For example, if N=4, a valid permutation [2, 4, 1, 3] indicates that the queen in the first row is placed in column 2, the queen in the second row is placed in column 4, and so on.\n",
    "\n",
    "\n",
    "Genetic Algorithm Steps:\n",
    "\n",
    "1. *Initialization*: Generate an initial population of permutations randomly.\n",
    "\n",
    "2. *Fitness Evaluation*: Evaluate the fitness of each permutation by calculating the total weight of the queens while considering the non-threatening positions.\n",
    "\n",
    "3. *Selection*: Select a subset of permutations from the population based on their fitness, using selection techniques like tournament selection or roulette wheel selection.\n",
    "\n",
    "4. *Crossover*: Perform crossover (recombination) on the selected permutations to create new offspring permutations.\n",
    "\n",
    "5. *Mutation*: Introduce random changes (mutations) in the offspring permutations to maintain diversity in the population.\n",
    "\n",
    "6. *Fitness Evaluation for the new individuals*: Evaluate the fitness of the new population.\n",
    "\n",
    "7. *Form the new population*: Select the surviving individuals based on scores, with chances direct proportional with their performance.\n",
    "\n",
    "8. Repeat steps 3-7 for a certain number of generations or until a termination condition is met (e.g., a maximum number of iterations or a satisfactory solution is found).\n",
    "\n",
    "\n",
    "9. *Termination*: Return the best-performing individual (permutation) found as the solution to the problem.\n",
    "\n",
    "Note: The fitness function used in this problem should calculate the total weight of the queens based on the positions specified by the permutation. Additionally, the fitness function should penalize solutions that violate the non-threatening constraint by assigning a lower fitness score to such permutations."
   ]
  },
  {
   "cell_type": "code",
   "execution_count": 13,
   "metadata": {},
   "outputs": [
    {
     "name": "stdout",
     "output_type": "stream",
     "text": [
      "Population: [[1, 7, 5, 6, 4, 3, 0, 2], [1, 0, 5, 6, 2, 4, 3, 7], [3, 1, 4, 5, 2, 0, 6, 7], [3, 0, 7, 5, 6, 2, 4, 1], [1, 4, 2, 7, 6, 5, 0, 3], [4, 0, 2, 6, 7, 1, 3, 5], [0, 4, 1, 6, 3, 5, 2, 7], [2, 6, 5, 4, 3, 1, 7, 0], [3, 1, 4, 7, 6, 0, 5, 2], [3, 5, 0, 4, 2, 6, 1, 7], [0, 2, 1, 5, 6, 4, 3, 7], [7, 5, 6, 0, 1, 2, 3, 4], [6, 1, 0, 7, 2, 5, 4, 3], [6, 2, 4, 3, 1, 7, 5, 0], [2, 0, 6, 1, 5, 7, 4, 3], [4, 1, 7, 3, 0, 2, 6, 5], [6, 2, 5, 4, 1, 3, 7, 0], [3, 1, 5, 0, 2, 6, 7, 4], [7, 4, 0, 2, 1, 5, 6, 3], [0, 7, 5, 4, 1, 3, 6, 2], [5, 6, 7, 1, 0, 3, 4, 2], [5, 6, 1, 3, 7, 4, 0, 2], [2, 3, 5, 1, 7, 0, 4, 6], [7, 3, 4, 1, 2, 0, 6, 5], [7, 4, 5, 1, 3, 0, 6, 2], [1, 7, 6, 3, 0, 5, 2, 4], [5, 3, 6, 0, 2, 7, 1, 4], [2, 1, 5, 6, 0, 7, 4, 3], [3, 7, 5, 6, 4, 0, 1, 2], [6, 4, 1, 2, 5, 0, 3, 7], [7, 6, 0, 1, 3, 2, 5, 4], [0, 2, 5, 1, 4, 3, 7, 6], [6, 1, 7, 0, 4, 3, 5, 2], [6, 2, 5, 1, 4, 3, 0, 7], [4, 0, 1, 3, 2, 5, 6, 7], [3, 6, 2, 1, 0, 5, 4, 7], [2, 7, 5, 0, 1, 4, 3, 6], [7, 5, 2, 3, 1, 6, 0, 4], [7, 0, 3, 1, 5, 4, 6, 2], [2, 6, 5, 1, 0, 4, 7, 3], [4, 6, 7, 3, 5, 2, 1, 0], [6, 7, 4, 1, 5, 3, 0, 2], [1, 0, 2, 5, 7, 6, 3, 4], [7, 5, 1, 2, 3, 6, 4, 0], [4, 1, 0, 2, 6, 5, 3, 7], [4, 6, 1, 3, 7, 2, 0, 5], [3, 1, 4, 7, 2, 6, 0, 5], [2, 1, 7, 3, 5, 4, 0, 6], [6, 1, 3, 7, 0, 2, 4, 5], [3, 7, 0, 4, 5, 1, 6, 2], [3, 5, 2, 4, 7, 6, 0, 1], [4, 3, 6, 7, 0, 5, 2, 1], [0, 1, 6, 4, 5, 7, 3, 2], [7, 6, 3, 1, 2, 5, 4, 0], [4, 5, 2, 7, 0, 3, 1, 6], [6, 2, 5, 4, 7, 1, 0, 3], [7, 1, 3, 6, 5, 4, 0, 2], [5, 6, 2, 0, 1, 4, 3, 7], [4, 5, 6, 1, 2, 0, 7, 3], [0, 5, 2, 4, 7, 3, 1, 6], [4, 5, 2, 7, 0, 1, 3, 6], [6, 0, 4, 3, 7, 5, 2, 1], [6, 4, 7, 3, 5, 1, 2, 0], [2, 4, 5, 0, 1, 3, 7, 6], [5, 1, 7, 0, 4, 2, 6, 3], [4, 3, 5, 7, 6, 0, 1, 2], [5, 0, 7, 6, 2, 3, 4, 1], [6, 0, 3, 4, 2, 5, 1, 7], [7, 1, 4, 5, 2, 0, 3, 6], [5, 1, 4, 2, 3, 0, 6, 7], [7, 5, 3, 4, 0, 6, 2, 1], [1, 0, 5, 7, 6, 4, 2, 3], [6, 0, 4, 7, 1, 3, 5, 2], [2, 3, 5, 7, 1, 6, 4, 0], [7, 3, 5, 4, 1, 2, 6, 0], [5, 2, 6, 0, 3, 7, 4, 1], [0, 2, 5, 3, 4, 7, 6, 1], [1, 4, 0, 7, 3, 2, 6, 5], [5, 1, 7, 2, 4, 6, 3, 0], [5, 0, 3, 2, 6, 1, 4, 7], [2, 0, 3, 4, 1, 5, 7, 6], [7, 5, 4, 6, 1, 2, 3, 0], [2, 4, 6, 3, 5, 7, 0, 1], [0, 7, 6, 1, 4, 2, 3, 5], [6, 4, 1, 2, 0, 7, 5, 3], [4, 5, 2, 0, 1, 6, 3, 7], [0, 1, 4, 2, 3, 6, 7, 5], [5, 1, 4, 6, 2, 3, 7, 0], [7, 6, 0, 1, 4, 5, 3, 2], [7, 1, 5, 6, 4, 3, 2, 0], [4, 0, 2, 7, 6, 5, 1, 3], [5, 6, 1, 3, 4, 7, 0, 2], [7, 6, 2, 0, 5, 4, 3, 1], [3, 0, 2, 1, 5, 4, 6, 7], [4, 1, 3, 0, 2, 5, 6, 7], [6, 4, 5, 2, 7, 1, 0, 3], [4, 6, 0, 5, 2, 7, 3, 1], [7, 6, 3, 2, 1, 5, 0, 4], [6, 0, 3, 4, 2, 1, 7, 5], [4, 5, 2, 0, 1, 7, 6, 3]]\n"
     ]
    }
   ],
   "source": [
    "# 1. Intialization\n",
    "import random\n",
    "import numpy as np\n",
    "\n",
    "def generate_population(population_size, N):\n",
    "    population = []\n",
    "    for _ in range(population_size):\n",
    "        permutation = list(range(N))\n",
    "        random.shuffle(permutation)\n",
    "        population.append(permutation)\n",
    "    return population\n",
    "\n",
    "population_size = 100 \n",
    "N = 8  \n",
    "population = generate_population(population_size, N)\n",
    "print(f\"Population: {population}\")"
   ]
  },
  {
   "cell_type": "code",
   "execution_count": 14,
   "metadata": {},
   "outputs": [
    {
     "name": "stdout",
     "output_type": "stream",
     "text": [
      "Weights: [[6, 9, 4, 5, 6, 4, 8, 8], [8, 4, 2, 8, 9, 10, 9, 7], [2, 9, 10, 4, 2, 6, 9, 10], [4, 7, 8, 4, 10, 6, 1, 4], [7, 5, 5, 7, 10, 4, 1, 4], [10, 9, 7, 5, 7, 5, 9, 6], [5, 9, 7, 4, 9, 7, 4, 5], [7, 5, 10, 10, 5, 7, 4, 5]]\n",
      "\n",
      "Fitness scores: [-4953, -5958, -4952, -2946, -6950, -2950, -4951, -10951, -2959, -3954, -4956, -11940, -11951, -3950, -2941, -4945, -5963, -4958, -4936, -2951, -7951, -3958, -3965, -6959, -5955, -4941, -1953, -4948, -8956, -4952, -9935, -4957, -2947, -3963, -7955, -7954, -4950, -5939, -4944, -2952, -7939, -6952, -5945, -5955, -4948, -1955, -3963, -6939, -1955, -1941, -4956, -10959, -4943, -6947, -5953, -6960, -6943, -6948, -5951, -1950, -7948, -4953, -4937, -3952, -4940, -7970, -5949, -3954, -1945, -6953, -5944, -5956, -1956, -2965, -10956, -1955, -7948, -2949, -3946, -4948, -5945, -7945, -3938, -5945, -4947, -5950, -2954, -1955, -3942, -7948, -8952, -2948, -4940, -5950, -5950, -7953, -2937, -4936, -6951, -4940]\n"
     ]
    }
   ],
   "source": [
    "# 2. Fitness Evaluation\n",
    "def fitness(individual, weights, penalty):\n",
    "    N = len(individual)\n",
    "    fitness = 0\n",
    "    for i in range(N):\n",
    "        j = individual[i] - 1 \n",
    "        if i < len(weights) and j < len(weights[i]): \n",
    "            fitness += weights[i][j]        \n",
    "    # Subtract penalty for any pair of queens in the same diagonal\n",
    "    for i in range(N):\n",
    "        for j in range(i+1, N):\n",
    "            if abs(i - j) == abs((individual[i]-1) - (individual[j]-1)):\n",
    "                fitness -= penalty\n",
    "    return fitness\n",
    "\n",
    "weights = [[random.randint(1, 10) for _ in range(N)] for _ in range(N)]  \n",
    "print(f\"Weights: {weights}\\n\")\n",
    "penalty = 1000  # for example\n",
    "fitness_scores = [fitness(individual, weights, penalty) for individual in population]\n",
    "print(f\"Fitness scores: {fitness_scores}\")"
   ]
  },
  {
   "cell_type": "code",
   "execution_count": 15,
   "metadata": {},
   "outputs": [
    {
     "name": "stdout",
     "output_type": "stream",
     "text": [
      "Selected parents: [[0, 5, 2, 4, 7, 3, 1, 6], [1, 4, 0, 7, 3, 2, 6, 5], [2, 0, 6, 1, 5, 7, 4, 3], [3, 1, 4, 7, 2, 6, 0, 5], [7, 6, 0, 1, 4, 5, 3, 2], [4, 0, 2, 6, 7, 1, 3, 5], [6, 0, 3, 4, 2, 5, 1, 7], [7, 1, 4, 5, 2, 0, 3, 6], [4, 6, 1, 3, 7, 2, 0, 5], [0, 7, 5, 4, 1, 3, 6, 2], [2, 3, 5, 7, 1, 6, 4, 0], [2, 0, 3, 4, 1, 5, 7, 6], [3, 7, 0, 4, 5, 1, 6, 2], [3, 1, 4, 7, 6, 0, 5, 2], [6, 4, 1, 2, 0, 7, 5, 3], [5, 2, 6, 0, 3, 7, 4, 1], [5, 1, 4, 6, 2, 3, 7, 0], [7, 6, 3, 2, 1, 5, 0, 4], [5, 1, 7, 2, 4, 6, 3, 0], [0, 1, 4, 2, 3, 6, 7, 5]]\n"
     ]
    }
   ],
   "source": [
    "# 3. Selection\n",
    "## Tournament Selection\n",
    "def tournament_selection(population, scores, tournament_size):\n",
    "    indices = list(range(len(population)))\n",
    "    random.shuffle(indices)\n",
    "    parents = []\n",
    "\n",
    "    for i in range(0, len(indices), tournament_size):\n",
    "        tournament_indices = indices[i:i+tournament_size]\n",
    "        tournament_scores = [scores[i] for i in tournament_indices]\n",
    "        # Select the best individual from the tournament\n",
    "        best_index = tournament_indices[tournament_scores.index(max(tournament_scores))]\n",
    "        parents.append(population[best_index])\n",
    "    return parents\n",
    "\n",
    "tournament_size = 5\n",
    "parents = tournament_selection(population, fitness_scores, tournament_size)\n",
    "print(f\"Selected parents: {parents}\")"
   ]
  },
  {
   "cell_type": "code",
   "execution_count": 16,
   "metadata": {},
   "outputs": [
    {
     "name": "stdout",
     "output_type": "stream",
     "text": [
      "The new population of children: [[5, 2, 3, 7, 6, 0, 4, 1], [0, 5, 2, 6, 1, 7, 4, 3], [7, 0, 5, 4, 1, 3, 6, 2], [3, 1, 4, 6, 2, 7, 0, 5], [2, 0, 4, 3, 1, 5, 7, 6], [4, 6, 1, 3, 7, 2, 0, 5], [6, 2, 3, 4, 1, 5, 7, 0], [0, 1, 5, 6, 2, 3, 7, 4], [7, 1, 4, 5, 2, 0, 3, 6], [2, 0, 6, 1, 5, 7, 3, 4], [4, 0, 6, 1, 2, 7, 5, 3], [5, 1, 4, 6, 2, 7, 0, 3], [6, 0, 2, 1, 5, 7, 4, 3], [5, 0, 4, 6, 2, 3, 7, 1], [2, 6, 3, 0, 1, 5, 7, 4], [6, 4, 1, 5, 7, 2, 3, 0], [4, 6, 1, 3, 7, 2, 0, 5], [0, 7, 3, 4, 2, 5, 1, 6], [7, 1, 4, 6, 5, 2, 0, 3], [2, 0, 3, 4, 1, 5, 7, 6], [2, 7, 5, 4, 1, 3, 6, 0], [0, 5, 4, 7, 3, 2, 1, 6], [4, 1, 7, 0, 3, 2, 6, 5], [1, 4, 0, 7, 5, 2, 3, 6], [0, 5, 2, 7, 1, 6, 4, 3], [0, 7, 6, 1, 4, 5, 3, 2], [3, 0, 6, 1, 5, 4, 7, 2], [2, 6, 0, 7, 4, 1, 3, 5], [2, 0, 4, 3, 7, 1, 5, 6], [3, 1, 4, 7, 2, 6, 0, 5], [5, 1, 4, 7, 2, 6, 3, 0], [2, 6, 3, 7, 1, 5, 0, 4], [2, 6, 0, 4, 5, 3, 7, 1], [5, 4, 2, 7, 0, 3, 1, 6], [4, 0, 2, 6, 7, 3, 1, 5], [0, 1, 2, 6, 4, 3, 7, 5], [3, 1, 4, 7, 6, 0, 5, 2], [6, 1, 2, 4, 3, 7, 0, 5], [0, 1, 4, 2, 3, 6, 7, 5], [7, 0, 5, 4, 1, 3, 6, 2], [3, 0, 4, 1, 6, 7, 5, 2], [2, 6, 5, 0, 3, 7, 4, 1], [2, 7, 5, 4, 1, 3, 6, 0], [4, 6, 1, 3, 2, 5, 7, 0], [3, 0, 4, 6, 7, 5, 1, 2], [0, 1, 7, 2, 4, 3, 6, 5], [3, 1, 4, 7, 2, 6, 0, 5], [3, 7, 0, 5, 1, 6, 4, 2], [7, 0, 5, 4, 1, 3, 6, 2], [6, 4, 2, 0, 5, 1, 7, 3], [7, 4, 5, 2, 0, 3, 1, 6], [6, 7, 0, 1, 4, 5, 3, 2], [5, 2, 6, 0, 3, 4, 1, 7], [1, 4, 0, 7, 3, 2, 6, 5], [4, 2, 6, 1, 5, 3, 7, 0], [1, 4, 5, 6, 2, 3, 7, 0], [6, 4, 1, 2, 0, 7, 5, 3], [4, 0, 7, 3, 2, 5, 1, 6], [5, 1, 6, 4, 7, 3, 2, 0], [0, 1, 7, 2, 4, 6, 5, 3], [0, 1, 4, 2, 3, 6, 7, 5], [4, 2, 7, 1, 6, 0, 3, 5], [5, 1, 4, 6, 0, 2, 7, 3], [4, 0, 7, 3, 2, 5, 1, 6], [3, 7, 0, 4, 5, 1, 6, 2], [0, 5, 3, 1, 4, 7, 2, 6], [0, 4, 1, 2, 3, 6, 7, 5], [0, 3, 7, 4, 5, 1, 6, 2], [7, 1, 4, 6, 0, 5, 3, 2], [5, 4, 7, 2, 0, 3, 1, 6], [0, 7, 5, 4, 1, 3, 6, 2], [6, 1, 4, 2, 0, 7, 5, 3], [2, 3, 5, 7, 1, 6, 4, 0], [3, 0, 2, 4, 1, 5, 7, 6], [1, 3, 4, 7, 2, 6, 0, 5], [7, 0, 3, 4, 2, 5, 1, 6], [7, 6, 0, 1, 3, 4, 2, 5], [5, 1, 7, 2, 4, 6, 3, 0], [3, 1, 4, 7, 6, 0, 5, 2], [7, 1, 4, 5, 2, 0, 3, 6], [3, 1, 4, 7, 6, 0, 5, 2], [4, 6, 7, 1, 2, 0, 3, 5], [0, 6, 3, 2, 1, 4, 7, 5], [6, 0, 3, 4, 2, 5, 1, 7], [6, 0, 5, 4, 1, 3, 2, 7], [6, 0, 3, 4, 2, 1, 7, 5], [0, 6, 3, 4, 2, 5, 1, 7], [2, 0, 6, 1, 5, 7, 4, 3], [7, 0, 5, 4, 1, 3, 6, 2], [3, 1, 7, 2, 4, 6, 0, 5], [3, 2, 5, 7, 1, 6, 4, 0], [3, 7, 1, 4, 0, 2, 6, 5], [4, 6, 3, 2, 1, 7, 0, 5], [3, 7, 6, 2, 1, 5, 4, 0], [0, 2, 4, 7, 6, 1, 3, 5], [6, 0, 2, 5, 3, 7, 4, 1], [6, 2, 3, 4, 1, 5, 0, 7], [7, 1, 6, 0, 3, 4, 2, 5], [7, 6, 0, 1, 4, 5, 3, 2], [0, 1, 3, 4, 7, 6, 5, 2]]\n"
     ]
    }
   ],
   "source": [
    "# 4. Crossover\n",
    "## Ordered crossover\n",
    "def ordered_crossover(parent1, parent2):\n",
    "    size = len(parent1)\n",
    "    start, end = sorted(random.sample(range(size), 2))\n",
    "    segment = parent1[start:end+1]\n",
    "    remaining = [gene for gene in parent2 if gene not in segment]\n",
    "    child = remaining[:start] + segment + remaining[start:]\n",
    "    return child\n",
    "\n",
    "def generate_children_OX(parents, num_children):\n",
    "    children = []\n",
    "    while len(children) < num_children:\n",
    "        parent1, parent2 = random.sample(parents, 2)\n",
    "        child = ordered_crossover(parent1, parent2)\n",
    "        children.append(child)\n",
    "    return children\n",
    "\n",
    "num_children = 100 \n",
    "children = generate_children_OX(parents, num_children)\n",
    "print(f\"The new population of children: {children}\")"
   ]
  },
  {
   "cell_type": "code",
   "execution_count": 18,
   "metadata": {},
   "outputs": [
    {
     "name": "stdout",
     "output_type": "stream",
     "text": [
      "Mutated population: [[5, 2, 3, 7, 6, 0, 4, 1], [0, 5, 2, 6, 1, 7, 4, 3], [7, 0, 5, 4, 1, 3, 6, 2], [3, 1, 4, 6, 2, 7, 0, 5], [2, 0, 4, 3, 1, 5, 7, 6], [4, 6, 1, 3, 7, 2, 0, 5], [6, 2, 3, 4, 1, 5, 7, 0], [0, 1, 5, 6, 2, 3, 7, 4], [7, 1, 4, 5, 2, 0, 3, 6], [2, 0, 6, 1, 5, 7, 3, 4], [4, 0, 6, 1, 2, 7, 5, 3], [5, 1, 4, 6, 2, 7, 0, 3], [6, 0, 2, 1, 5, 7, 4, 3], [5, 0, 4, 6, 2, 3, 7, 1], [2, 6, 3, 0, 1, 5, 7, 4], [6, 4, 1, 5, 7, 2, 3, 0], [4, 6, 1, 3, 7, 2, 0, 5], [0, 7, 3, 4, 2, 5, 1, 6], [7, 1, 4, 6, 5, 2, 0, 3], [2, 0, 3, 4, 1, 5, 7, 6], [2, 7, 5, 4, 1, 3, 6, 0], [0, 5, 4, 7, 3, 2, 1, 6], [4, 1, 7, 0, 3, 2, 6, 5], [1, 4, 0, 7, 5, 2, 3, 6], [0, 5, 2, 7, 1, 6, 4, 3], [0, 7, 6, 1, 4, 5, 3, 2], [3, 0, 6, 1, 5, 4, 7, 2], [2, 6, 0, 7, 4, 1, 3, 5], [2, 0, 4, 3, 7, 1, 5, 6], [3, 1, 4, 7, 2, 6, 0, 5], [5, 1, 4, 7, 2, 6, 3, 0], [2, 6, 3, 7, 1, 5, 0, 4], [2, 6, 0, 4, 5, 3, 7, 1], [5, 4, 2, 7, 0, 3, 1, 6], [4, 0, 2, 6, 7, 3, 1, 5], [0, 1, 2, 6, 4, 3, 7, 5], [3, 1, 4, 7, 6, 0, 5, 2], [6, 1, 2, 4, 3, 7, 0, 5], [0, 1, 4, 2, 3, 6, 7, 5], [7, 0, 5, 4, 1, 3, 6, 2], [3, 0, 4, 1, 6, 7, 5, 2], [2, 6, 5, 0, 3, 7, 4, 1], [2, 7, 5, 4, 1, 3, 6, 0], [4, 6, 1, 3, 2, 5, 7, 0], [3, 0, 4, 6, 7, 5, 1, 2], [0, 1, 7, 2, 4, 3, 6, 5], [3, 1, 4, 7, 2, 6, 0, 5], [3, 7, 0, 5, 1, 6, 4, 2], [7, 0, 5, 4, 1, 3, 6, 2], [6, 4, 2, 0, 5, 1, 7, 3], [7, 4, 5, 2, 0, 3, 1, 6], [6, 7, 0, 1, 4, 5, 3, 2], [5, 2, 6, 0, 3, 4, 1, 7], [1, 4, 0, 7, 3, 2, 6, 5], [4, 2, 6, 1, 5, 3, 7, 0], [1, 4, 5, 6, 2, 3, 7, 0], [6, 4, 1, 2, 0, 7, 5, 3], [4, 0, 7, 3, 2, 5, 1, 6], [5, 1, 6, 4, 7, 3, 2, 0], [0, 1, 7, 2, 4, 6, 5, 3], [0, 1, 4, 2, 3, 6, 7, 5], [4, 2, 7, 1, 6, 0, 3, 5], [5, 1, 4, 6, 0, 2, 7, 3], [4, 0, 7, 3, 2, 5, 1, 6], [3, 7, 0, 4, 5, 1, 6, 2], [0, 5, 3, 1, 4, 7, 2, 6], [0, 4, 1, 2, 3, 6, 7, 5], [0, 3, 7, 4, 5, 1, 6, 2], [7, 1, 4, 6, 0, 5, 3, 2], [5, 4, 7, 2, 0, 3, 1, 6], [0, 7, 5, 4, 1, 3, 6, 2], [6, 1, 4, 2, 0, 7, 5, 3], [2, 3, 5, 7, 1, 6, 4, 0], [3, 0, 2, 4, 1, 5, 7, 6], [1, 3, 4, 7, 2, 6, 0, 5], [7, 0, 3, 4, 2, 5, 1, 6], [7, 6, 0, 1, 3, 4, 2, 5], [5, 1, 7, 2, 4, 6, 3, 0], [3, 1, 4, 7, 6, 0, 5, 2], [7, 1, 4, 5, 2, 0, 3, 6], [3, 1, 4, 7, 6, 0, 5, 2], [4, 6, 7, 1, 2, 0, 3, 5], [0, 6, 3, 2, 1, 4, 7, 5], [6, 0, 3, 4, 2, 5, 1, 7], [6, 0, 5, 4, 1, 3, 2, 7], [6, 0, 3, 4, 2, 1, 7, 5], [0, 6, 3, 4, 2, 5, 1, 7], [2, 0, 6, 1, 5, 7, 4, 3], [7, 0, 5, 4, 1, 3, 6, 2], [3, 1, 7, 2, 4, 6, 0, 5], [3, 2, 5, 7, 1, 6, 4, 0], [3, 7, 1, 4, 0, 2, 6, 5], [4, 6, 3, 2, 1, 7, 0, 5], [3, 7, 6, 2, 1, 5, 4, 0], [0, 2, 4, 7, 6, 1, 3, 5], [6, 0, 2, 5, 3, 7, 4, 1], [6, 2, 3, 4, 1, 5, 0, 7], [7, 1, 6, 0, 3, 4, 2, 5], [7, 6, 0, 1, 4, 5, 3, 2], [0, 1, 3, 4, 7, 6, 5, 2]]\n"
     ]
    }
   ],
   "source": [
    "## Adaptive Mutation\n",
    "import numpy as np\n",
    "\n",
    "def mutate_population_adaptive(population, scores, base_mutation_rate, max_mutation_rate):\n",
    "    std_dev = np.std(scores)\n",
    "    mutation_rate = min(base_mutation_rate / (std_dev + 1e-8), max_mutation_rate)\n",
    "    for individual in population:\n",
    "        for i in range(len(individual)):\n",
    "            if random.random() < mutation_rate:\n",
    "                swap_idx = random.randint(0, len(individual) - 1)\n",
    "                individual[i], individual[swap_idx] = individual[swap_idx], individual[i]\n",
    "    return population\n",
    "\n",
    "base_mutation_rate = 0.05\n",
    "max_mutation_rate = 0.4\n",
    "population = mutate_population_adaptive(children, fitness_scores, base_mutation_rate, max_mutation_rate)\n",
    "print(f\"Mutated population: {population}\")"
   ]
  },
  {
   "cell_type": "code",
   "execution_count": 19,
   "metadata": {},
   "outputs": [
    {
     "name": "stdout",
     "output_type": "stream",
     "text": [
      "Scores: [-6958, -1938, -2953, -6954, -4947, -1955, -7955, -2950, -1945, -2938, -3945, -3947, -2943, -2954, -4939, -2954, -1955, -2945, -2940, -5945, -3950, -5952, -3948, -2942, -4947, -6947, -4955, -1941, -7945, -3963, -959, -2941, -6939, -1953, -2955, -7946, -2959, -3951, -2954, -2953, -3954, -3950, -3950, -2954, -4961, -8942, -3963, -1946, -2953, -2941, -5952, -4947, -2961, -2949, -6955, -5957, -4947, -2947, -3954, -4937, -2954, -2956, -949, -2947, -1941, -1937, -4956, -4945, -3951, -4947, -2951, -3945, -2965, -3951, -5967, -4947, -6944, -3946, -2959, -1945, -2959, -5949, -4944, -3954, -1956, -6951, -6947, -2941, -2953, -950, -4968, -2956, -3942, -2951, -2957, -2945, -5955, -2950, -3942, -6950]\n"
     ]
    }
   ],
   "source": [
    "# 6. Fitness Evaluation for the new individuals\n",
    "def evaluate_population(population, weights, penalty):\n",
    "    scores = [fitness(individual, weights, penalty) for individual in population]\n",
    "    return scores\n",
    "\n",
    "scores = evaluate_population(children, weights, penalty)\n",
    "print(f\"Scores: {scores}\")"
   ]
  },
  {
   "cell_type": "code",
   "execution_count": 20,
   "metadata": {},
   "outputs": [
    {
     "name": "stdout",
     "output_type": "stream",
     "text": [
      "New population: [[5, 1, 4, 6, 0, 2, 7, 3], [3, 1, 7, 2, 4, 6, 0, 5], [5, 1, 4, 7, 2, 6, 3, 0], [0, 5, 3, 1, 4, 7, 2, 6], [0, 5, 2, 6, 1, 7, 4, 3], [2, 6, 0, 7, 4, 1, 3, 5], [3, 7, 0, 4, 5, 1, 6, 2], [7, 1, 4, 5, 2, 0, 3, 6], [7, 1, 4, 5, 2, 0, 3, 6], [3, 7, 0, 5, 1, 6, 4, 2], [4, 0, 6, 1, 2, 7, 5, 3], [5, 1, 4, 6, 2, 7, 0, 3], [6, 0, 2, 1, 5, 7, 4, 3], [5, 0, 4, 6, 2, 3, 7, 1], [2, 6, 3, 0, 1, 5, 7, 4], [6, 4, 1, 5, 7, 2, 3, 0], [4, 6, 1, 3, 7, 2, 0, 5], [0, 7, 3, 4, 2, 5, 1, 6], [7, 1, 4, 6, 5, 2, 0, 3], [2, 0, 3, 4, 1, 5, 7, 6], [2, 7, 5, 4, 1, 3, 6, 0], [0, 5, 4, 7, 3, 2, 1, 6], [4, 1, 7, 0, 3, 2, 6, 5], [1, 4, 0, 7, 5, 2, 3, 6], [0, 5, 2, 7, 1, 6, 4, 3], [0, 7, 6, 1, 4, 5, 3, 2], [3, 0, 6, 1, 5, 4, 7, 2], [2, 6, 0, 7, 4, 1, 3, 5], [2, 0, 4, 3, 7, 1, 5, 6], [3, 1, 4, 7, 2, 6, 0, 5], [5, 1, 4, 7, 2, 6, 3, 0], [2, 6, 3, 7, 1, 5, 0, 4], [2, 6, 0, 4, 5, 3, 7, 1], [5, 4, 2, 7, 0, 3, 1, 6], [4, 0, 2, 6, 7, 3, 1, 5], [0, 1, 2, 6, 4, 3, 7, 5], [3, 1, 4, 7, 6, 0, 5, 2], [6, 1, 2, 4, 3, 7, 0, 5], [0, 1, 4, 2, 3, 6, 7, 5], [7, 0, 5, 4, 1, 3, 6, 2], [3, 0, 4, 1, 6, 7, 5, 2], [2, 6, 5, 0, 3, 7, 4, 1], [2, 7, 5, 4, 1, 3, 6, 0], [4, 6, 1, 3, 2, 5, 7, 0], [3, 0, 4, 6, 7, 5, 1, 2], [0, 1, 7, 2, 4, 3, 6, 5], [3, 1, 4, 7, 2, 6, 0, 5], [3, 7, 0, 5, 1, 6, 4, 2], [7, 0, 5, 4, 1, 3, 6, 2], [6, 4, 2, 0, 5, 1, 7, 3], [7, 4, 5, 2, 0, 3, 1, 6], [6, 7, 0, 1, 4, 5, 3, 2], [5, 2, 6, 0, 3, 4, 1, 7], [1, 4, 0, 7, 3, 2, 6, 5], [4, 2, 6, 1, 5, 3, 7, 0], [1, 4, 5, 6, 2, 3, 7, 0], [6, 4, 1, 2, 0, 7, 5, 3], [4, 0, 7, 3, 2, 5, 1, 6], [5, 1, 6, 4, 7, 3, 2, 0], [0, 1, 7, 2, 4, 6, 5, 3], [0, 1, 4, 2, 3, 6, 7, 5], [4, 2, 7, 1, 6, 0, 3, 5], [5, 1, 4, 6, 0, 2, 7, 3], [4, 0, 7, 3, 2, 5, 1, 6], [3, 7, 0, 4, 5, 1, 6, 2], [0, 5, 3, 1, 4, 7, 2, 6], [0, 4, 1, 2, 3, 6, 7, 5], [0, 3, 7, 4, 5, 1, 6, 2], [7, 1, 4, 6, 0, 5, 3, 2], [5, 4, 7, 2, 0, 3, 1, 6], [0, 7, 5, 4, 1, 3, 6, 2], [6, 1, 4, 2, 0, 7, 5, 3], [2, 3, 5, 7, 1, 6, 4, 0], [3, 0, 2, 4, 1, 5, 7, 6], [1, 3, 4, 7, 2, 6, 0, 5], [7, 0, 3, 4, 2, 5, 1, 6], [7, 6, 0, 1, 3, 4, 2, 5], [5, 1, 7, 2, 4, 6, 3, 0], [3, 1, 4, 7, 6, 0, 5, 2], [7, 1, 4, 5, 2, 0, 3, 6], [3, 1, 4, 7, 6, 0, 5, 2], [4, 6, 7, 1, 2, 0, 3, 5], [0, 6, 3, 2, 1, 4, 7, 5], [6, 0, 3, 4, 2, 5, 1, 7], [6, 0, 5, 4, 1, 3, 2, 7], [6, 0, 3, 4, 2, 1, 7, 5], [0, 6, 3, 4, 2, 5, 1, 7], [2, 0, 6, 1, 5, 7, 4, 3], [7, 0, 5, 4, 1, 3, 6, 2], [3, 1, 7, 2, 4, 6, 0, 5], [3, 2, 5, 7, 1, 6, 4, 0], [3, 7, 1, 4, 0, 2, 6, 5], [4, 6, 3, 2, 1, 7, 0, 5], [3, 7, 6, 2, 1, 5, 4, 0], [0, 2, 4, 7, 6, 1, 3, 5], [6, 0, 2, 5, 3, 7, 4, 1], [6, 2, 3, 4, 1, 5, 0, 7], [7, 1, 6, 0, 3, 4, 2, 5], [7, 6, 0, 1, 4, 5, 3, 2], [0, 1, 3, 4, 7, 6, 5, 2]]\n"
     ]
    }
   ],
   "source": [
    "# 7. Form the new population\n",
    "def new_population(children, scores, population_size):\n",
    "    sorted_indices = sorted(range(len(scores)), key=lambda i: scores[i], reverse=True)\n",
    "    elite = [children[i] for i in sorted_indices[:population_size//10]]  # Save top 10%\n",
    "    new_population = elite + children[len(elite):population_size] # Fill the rest of the population with the children\n",
    "    return new_population\n",
    "\n",
    "population_size = 100\n",
    "population = new_population(children, scores, population_size)\n",
    "print(f\"New population: {population}\")"
   ]
  },
  {
   "cell_type": "code",
   "execution_count": 21,
   "metadata": {},
   "outputs": [
    {
     "name": "stdout",
     "output_type": "stream",
     "text": [
      "- - - Q \n",
      "- Q - - \n",
      "- - - - \n",
      "- - Q - \n"
     ]
    }
   ],
   "source": [
    "# 8. Iterations\n",
    "def print_board(solution):\n",
    "    N = len(solution)\n",
    "    for i in range(N):\n",
    "        for j in range(N):\n",
    "            if solution[i] == j:\n",
    "                print('Q', end=' ')\n",
    "            else:\n",
    "                print('-', end=' ')\n",
    "        print()\n",
    "\n",
    "solution = [3, 1, 4, 2]\n",
    "print_board(solution)"
   ]
  },
  {
   "cell_type": "code",
   "execution_count": 22,
   "metadata": {},
   "outputs": [
    {
     "name": "stdout",
     "output_type": "stream",
     "text": [
      "Best individual: [2, 5, 7, 0, 4, 6, 1, 3]; Best score: 58\n",
      "\n",
      "- - Q - - - - - \n",
      "- - - - - Q - - \n",
      "- - - - - - - Q \n",
      "Q - - - - - - - \n",
      "- - - - Q - - - \n",
      "- - - - - - Q - \n",
      "- Q - - - - - - \n",
      "- - - Q - - - - \n"
     ]
    }
   ],
   "source": [
    "def ga_ox_adaptive(population, weights, penalty, population_size, base_mutation_rate, max_mutation_rate, tournament_size, generations):\n",
    "    best_score = -1\n",
    "    best_individual = None\n",
    "\n",
    "    for _ in range(generations):\n",
    "        scores = evaluate_population(population, weights, penalty)\n",
    "        parents = tournament_selection(population, scores, tournament_size)\n",
    "        children = generate_children_OX(parents, population_size)\n",
    "        population = mutate_population_adaptive(children, scores, base_mutation_rate, max_mutation_rate)\n",
    "        scores = evaluate_population(population, weights, penalty)\n",
    "        population = new_population(population, scores, population_size)\n",
    "\n",
    "        max_score = max(scores)\n",
    "        if max_score > best_score:\n",
    "            best_score = max_score\n",
    "            best_individual = population[scores.index(best_score)]\n",
    "\n",
    "    return best_individual, best_score\n",
    "\n",
    "generations = 100\n",
    "base_mutation_rate = 0.025\n",
    "max_mutation_rate = 0.3\n",
    "best_individual, best_score = ga_ox_adaptive(population, weights, penalty, population_size, base_mutation_rate, max_mutation_rate, tournament_size, generations)\n",
    "print(f\"Best individual: {best_individual}; Best score: {best_score}\\n\")\n",
    "\n",
    "print_board(best_individual)"
   ]
  },
  {
   "cell_type": "code",
   "execution_count": 28,
   "metadata": {},
   "outputs": [
    {
     "name": "stdout",
     "output_type": "stream",
     "text": [
      "True\n"
     ]
    }
   ],
   "source": [
    "# 9. Termination - Abblation\n",
    "def is_solution_successful(individual):\n",
    "    # Check if any two queens are on the same diagonal\n",
    "    for i in range(len(individual)):\n",
    "        for j in range(i+1, len(individual)):\n",
    "            if abs(individual[j] - individual[i]) == abs(j - i):\n",
    "                return False\n",
    "    return True\n",
    "\n",
    "print(is_solution_successful(best_individual))"
   ]
  },
  {
   "cell_type": "code",
   "execution_count": null,
   "metadata": {},
   "outputs": [],
   "source": []
  }
 ],
 "metadata": {
  "kernel_info": {
   "name": "python"
  },
  "kernelspec": {
   "display_name": "Python 3 (ipykernel)",
   "language": "python",
   "name": "python3"
  },
  "language_info": {
   "codemirror_mode": {
    "name": "ipython",
    "version": 3
   },
   "file_extension": ".py",
   "mimetype": "text/x-python",
   "name": "python",
   "nbconvert_exporter": "python",
   "pygments_lexer": "ipython3",
   "version": "3.11.8"
  },
  "nteract": {
   "version": "nteract-front-end@1.0.0"
  }
 },
 "nbformat": 4,
 "nbformat_minor": 4
}
