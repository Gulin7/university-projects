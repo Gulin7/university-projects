{
 "cells": [
  {
   "cell_type": "markdown",
   "metadata": {},
   "source": [
    "# Linear regression (least squares line)\n",
    "\n",
    "Consider $n$ data points $(x_i,y_i)$. The regression line $f(x) = \\alpha x + \\beta$ that minimizes the least squares error\n",
    "$$\n",
    "\\sum_{i=1}^n \\vert f(x_i) - y_i \\vert ^2 = \\sum_{i=1}^n \\vert \\alpha x_i + \\beta - y_i \\vert ^2\n",
    "$$\n",
    "is obtained by taking $\\frac{\\partial f}{\\partial \\alpha} = 0 = \\frac{\\partial f}{\\partial \\beta}$ and is given by the solution of the linear system\n",
    "$$\n",
    "\\begin{bmatrix}\n",
    "\\sum_{i=1}^n x^2_i & \\sum_{i=1}^n x_i\\\\\n",
    "\\sum_{i=1}^n x_i & n\n",
    "\\end{bmatrix}\n",
    "\\begin{bmatrix}\n",
    "\\alpha\\\\\n",
    "\\beta\n",
    "\\end{bmatrix}\n",
    "=\n",
    "\\begin{bmatrix}\n",
    "\\sum_{i=1}^n x_iy_i\\\\\n",
    "\\sum_{i=1}^n y_i\n",
    "\\end{bmatrix}\n",
    "$$"
   ]
  },
  {
   "cell_type": "code",
   "execution_count": 3,
   "metadata": {},
   "outputs": [
    {
     "data": {
      "image/png": "[encoded data removed]",
      "text/plain": [
       "<Figure size 432x288 with 1 Axes>"
      ]
     },
     "metadata": {
      "needs_background": "light"
     },
     "output_type": "display_data"
    }
   ],
   "source": [
    "import matplotlib.pyplot as plt\n",
    "import numpy as np\n",
    "\n",
    "# generate some data points\n",
    "n = 21\n",
    "x = np.linspace(0,1,n)\n",
    "y = x + 2 + 0.1*np.random.random(n)\n",
    "\n",
    "plt.plot(x,y,'k.')\n",
    "plt.xlabel(\"x\")\n",
    "plt.ylabel(\"y\")\n",
    "plt.show()"
   ]
  },
  {
   "cell_type": "code",
   "execution_count": 4,
   "metadata": {},
   "outputs": [
    {
     "name": "stdout",
     "output_type": "stream",
     "text": [
      "alpha = 0.9634011819344904 , beta = 2.0651789260256863\n"
     ]
    },
    {
     "data": {
      "image/png": "[encoded data removed]",
      "text/plain": [
       "<Figure size 432x288 with 1 Axes>"
      ]
     },
     "metadata": {
      "needs_background": "light"
     },
     "output_type": "display_data"
    }
   ],
   "source": [
    "# set up the linear system\n",
    "A = np.array([[np.dot(x,x), np.sum(x)],\n",
    "             [np.sum(x), n]])\n",
    "\n",
    "b = np.array([np.dot(x,y), np.sum(y)])\n",
    "\n",
    "# solve the linear system\n",
    "[alpha, beta] = np.linalg.solve(A, b)\n",
    "print(\"alpha = \"+str(alpha),\", beta = \"+str(beta))\n",
    "\n",
    "# plot the linear regression\n",
    "plt.plot(x,y,'k.')\n",
    "plt.xlabel(\"x\")\n",
    "plt.ylabel(\"y\")\n",
    "plt.plot(x, alpha*x+beta,'b')\n",
    "plt.show()"
   ]
  },
  {
   "cell_type": "code",
   "execution_count": null,
   "metadata": {},
   "outputs": [],
   "source": []
  }
 ],
 "metadata": {
  "kernelspec": {
   "display_name": "Python 3",
   "language": "python",
   "name": "python3"
  },
  "language_info": {
   "codemirror_mode": {
    "name": "ipython",
    "version": 3
   },
   "file_extension": ".py",
   "mimetype": "text/x-python",
   "name": "python",
   "nbconvert_exporter": "python",
   "pygments_lexer": "ipython3",
   "version": "3.7.4"
  }
 },
 "nbformat": 4,
 "nbformat_minor": 2
}
